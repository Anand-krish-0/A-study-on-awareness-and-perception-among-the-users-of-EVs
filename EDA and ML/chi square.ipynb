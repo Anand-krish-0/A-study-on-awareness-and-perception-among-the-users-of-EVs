{
 "cells": [
  {
   "cell_type": "markdown",
   "metadata": {},
   "source": [
    "## Import the dependencies"
   ]
  },
  {
   "cell_type": "code",
   "execution_count": 91,
   "metadata": {},
   "outputs": [],
   "source": [
    "import numpy as np\n",
    "import pandas as pd\n",
    "from scipy.stats import chi2_contingency"
   ]
  },
  {
   "cell_type": "markdown",
   "metadata": {},
   "source": [
    "# Get the data"
   ]
  },
  {
   "cell_type": "code",
   "execution_count": 92,
   "metadata": {},
   "outputs": [
    {
     "data": {
      "text/html": [
       "<div>\n",
       "<style scoped>\n",
       "    .dataframe tbody tr th:only-of-type {\n",
       "        vertical-align: middle;\n",
       "    }\n",
       "\n",
       "    .dataframe tbody tr th {\n",
       "        vertical-align: top;\n",
       "    }\n",
       "\n",
       "    .dataframe thead th {\n",
       "        text-align: right;\n",
       "    }\n",
       "</style>\n",
       "<table border=\"1\" class=\"dataframe\">\n",
       "  <thead>\n",
       "    <tr style=\"text-align: right;\">\n",
       "      <th></th>\n",
       "      <th>Unnamed: 0</th>\n",
       "      <th>Name</th>\n",
       "      <th>Gender</th>\n",
       "      <th>Age</th>\n",
       "      <th>Employment Status</th>\n",
       "      <th>Education Qualification</th>\n",
       "      <th>District</th>\n",
       "      <th>Area of Residence</th>\n",
       "      <th>type of vehicle</th>\n",
       "      <th>EV</th>\n",
       "      <th>...</th>\n",
       "      <th>4.5 cost consideration</th>\n",
       "      <th>5.1 consumer preference</th>\n",
       "      <th>5.2 consumer preference</th>\n",
       "      <th>5.3 consumer preference</th>\n",
       "      <th>5.4 consumer preference</th>\n",
       "      <th>5.5 consumer preference</th>\n",
       "      <th>6.1 evm consideration</th>\n",
       "      <th>6.2 evm consideration</th>\n",
       "      <th>6.3 evm consideration</th>\n",
       "      <th>6.4 evm consideration</th>\n",
       "    </tr>\n",
       "  </thead>\n",
       "  <tbody>\n",
       "    <tr>\n",
       "      <th>0</th>\n",
       "      <td>0</td>\n",
       "      <td>Anish Glorisha</td>\n",
       "      <td>Female</td>\n",
       "      <td>18 - 27</td>\n",
       "      <td>Student</td>\n",
       "      <td>Post Graduate</td>\n",
       "      <td>Coimbatore</td>\n",
       "      <td>Urban</td>\n",
       "      <td>Petrol</td>\n",
       "      <td>No</td>\n",
       "      <td>...</td>\n",
       "      <td>4</td>\n",
       "      <td>4</td>\n",
       "      <td>4</td>\n",
       "      <td>4</td>\n",
       "      <td>3</td>\n",
       "      <td>4</td>\n",
       "      <td>3</td>\n",
       "      <td>3</td>\n",
       "      <td>4</td>\n",
       "      <td>3</td>\n",
       "    </tr>\n",
       "    <tr>\n",
       "      <th>1</th>\n",
       "      <td>1</td>\n",
       "      <td>Hari</td>\n",
       "      <td>Male</td>\n",
       "      <td>18 - 27</td>\n",
       "      <td>Student</td>\n",
       "      <td>Post Graduate</td>\n",
       "      <td>coimbatore</td>\n",
       "      <td>Rural</td>\n",
       "      <td>Diesel</td>\n",
       "      <td>Yes</td>\n",
       "      <td>...</td>\n",
       "      <td>2</td>\n",
       "      <td>1</td>\n",
       "      <td>1</td>\n",
       "      <td>3</td>\n",
       "      <td>3</td>\n",
       "      <td>3</td>\n",
       "      <td>1</td>\n",
       "      <td>2</td>\n",
       "      <td>2</td>\n",
       "      <td>4</td>\n",
       "    </tr>\n",
       "    <tr>\n",
       "      <th>2</th>\n",
       "      <td>2</td>\n",
       "      <td>CHINNAPPANDI J</td>\n",
       "      <td>Male</td>\n",
       "      <td>18 - 27</td>\n",
       "      <td>Student</td>\n",
       "      <td>Post Graduate</td>\n",
       "      <td>coimbatore</td>\n",
       "      <td>Rural</td>\n",
       "      <td>Petrol</td>\n",
       "      <td>Yes</td>\n",
       "      <td>...</td>\n",
       "      <td>1</td>\n",
       "      <td>4</td>\n",
       "      <td>2</td>\n",
       "      <td>4</td>\n",
       "      <td>3</td>\n",
       "      <td>2</td>\n",
       "      <td>4</td>\n",
       "      <td>4</td>\n",
       "      <td>5</td>\n",
       "      <td>5</td>\n",
       "    </tr>\n",
       "    <tr>\n",
       "      <th>3</th>\n",
       "      <td>3</td>\n",
       "      <td>P. Manikandan</td>\n",
       "      <td>Male</td>\n",
       "      <td>18 - 27</td>\n",
       "      <td>Student</td>\n",
       "      <td>Post Graduate</td>\n",
       "      <td>Viruthunagar</td>\n",
       "      <td>Urban</td>\n",
       "      <td>Diesel</td>\n",
       "      <td>Yes</td>\n",
       "      <td>...</td>\n",
       "      <td>3</td>\n",
       "      <td>3</td>\n",
       "      <td>1</td>\n",
       "      <td>3</td>\n",
       "      <td>2</td>\n",
       "      <td>2</td>\n",
       "      <td>3</td>\n",
       "      <td>4</td>\n",
       "      <td>4</td>\n",
       "      <td>3</td>\n",
       "    </tr>\n",
       "    <tr>\n",
       "      <th>4</th>\n",
       "      <td>4</td>\n",
       "      <td>Divyasri</td>\n",
       "      <td>Female</td>\n",
       "      <td>18 - 27</td>\n",
       "      <td>Student</td>\n",
       "      <td>Post Graduate</td>\n",
       "      <td>Dharmapuri</td>\n",
       "      <td>Urban</td>\n",
       "      <td>Petrol</td>\n",
       "      <td>No</td>\n",
       "      <td>...</td>\n",
       "      <td>4</td>\n",
       "      <td>4</td>\n",
       "      <td>2</td>\n",
       "      <td>2</td>\n",
       "      <td>3</td>\n",
       "      <td>2</td>\n",
       "      <td>2</td>\n",
       "      <td>3</td>\n",
       "      <td>4</td>\n",
       "      <td>3</td>\n",
       "    </tr>\n",
       "  </tbody>\n",
       "</table>\n",
       "<p>5 rows × 37 columns</p>\n",
       "</div>"
      ],
      "text/plain": [
       "   Unnamed: 0             Name  Gender      Age Employment Status  \\\n",
       "0           0  Anish Glorisha   Female  18 - 27           Student   \n",
       "1           1             Hari    Male  18 - 27           Student   \n",
       "2           2  CHINNAPPANDI J     Male  18 - 27           Student   \n",
       "3           3    P. Manikandan    Male  18 - 27           Student   \n",
       "4           4        Divyasri   Female  18 - 27           Student   \n",
       "\n",
       "  Education Qualification       District Area of Residence type of vehicle  \\\n",
       "0            Post Graduate   Coimbatore              Urban          Petrol   \n",
       "1            Post Graduate    coimbatore             Rural          Diesel   \n",
       "2            Post Graduate    coimbatore             Rural          Petrol   \n",
       "3            Post Graduate  Viruthunagar             Urban          Diesel   \n",
       "4            Post Graduate   Dharmapuri              Urban          Petrol   \n",
       "\n",
       "    EV  ...  4.5 cost consideration  5.1 consumer preference  \\\n",
       "0   No  ...                       4                        4   \n",
       "1  Yes  ...                       2                        1   \n",
       "2  Yes  ...                       1                        4   \n",
       "3  Yes  ...                       3                        3   \n",
       "4   No  ...                       4                        4   \n",
       "\n",
       "   5.2 consumer preference  5.3 consumer preference  5.4 consumer preference  \\\n",
       "0                        4                        4                        3   \n",
       "1                        1                        3                        3   \n",
       "2                        2                        4                        3   \n",
       "3                        1                        3                        2   \n",
       "4                        2                        2                        3   \n",
       "\n",
       "   5.5 consumer preference  6.1 evm consideration  6.2 evm consideration  \\\n",
       "0                        4                      3                      3   \n",
       "1                        3                      1                      2   \n",
       "2                        2                      4                      4   \n",
       "3                        2                      3                      4   \n",
       "4                        2                      2                      3   \n",
       "\n",
       "   6.3 evm consideration  6.4 evm consideration  \n",
       "0                      4                      3  \n",
       "1                      2                      4  \n",
       "2                      5                      5  \n",
       "3                      4                      3  \n",
       "4                      4                      3  \n",
       "\n",
       "[5 rows x 37 columns]"
      ]
     },
     "execution_count": 92,
     "metadata": {},
     "output_type": "execute_result"
    }
   ],
   "source": [
    "data = pd.read_csv(r\"d:\\pg project responses\\analyze using python\\cust_res.csv\")\n",
    "data.head()"
   ]
  },
  {
   "cell_type": "code",
   "execution_count": 93,
   "metadata": {},
   "outputs": [
    {
     "data": {
      "text/plain": [
       "Index(['Name', 'Gender', 'Age', 'Employment Status',\n",
       "       'Education Qualification ', 'District', 'Area of Residence',\n",
       "       'type of vehicle', 'EV', '1.1 current awareness',\n",
       "       '1.2 current awareness', '1.3 current awareness',\n",
       "       '1.4 current awareness', '2.1 user satisfaction',\n",
       "       '2.2 user satisfaction', '2.3 user satisfaction',\n",
       "       '2.4 user satisfaction', '2.5 user satisfaction',\n",
       "       '3.1 charging facilities', '3.2 charging facilities',\n",
       "       '3.3 charging facilities', '3.4 charging facilities',\n",
       "       '4.1 cost consideration', '4.2 cost consideration',\n",
       "       '4.3 cost consideration', '4.4 cost consideration',\n",
       "       '4.5 cost consideration', '5.1 consumer preference',\n",
       "       '5.2 consumer preference', '5.3 consumer preference',\n",
       "       '5.4 consumer preference', '5.5 consumer preference',\n",
       "       '6.1 evm consideration', '6.2 evm consideration',\n",
       "       '6.3 evm consideration', '6.4 evm consideration'],\n",
       "      dtype='object')"
      ]
     },
     "execution_count": 93,
     "metadata": {},
     "output_type": "execute_result"
    }
   ],
   "source": [
    "data.drop(columns=\"Unnamed: 0\", axis=1, inplace=True)\n",
    "data.head()\n",
    "data.columns\n"
   ]
  },
  {
   "cell_type": "markdown",
   "metadata": {},
   "source": [
    "# Selecting the ratings columns"
   ]
  },
  {
   "cell_type": "code",
   "execution_count": 94,
   "metadata": {},
   "outputs": [
    {
     "data": {
      "text/plain": [
       "Index(['1.1 current awareness', '1.2 current awareness',\n",
       "       '1.3 current awareness', '1.4 current awareness',\n",
       "       '2.1 user satisfaction', '2.2 user satisfaction',\n",
       "       '2.3 user satisfaction', '2.4 user satisfaction',\n",
       "       '2.5 user satisfaction', '3.1 charging facilities',\n",
       "       '3.2 charging facilities', '3.3 charging facilities',\n",
       "       '3.4 charging facilities', '4.1 cost consideration',\n",
       "       '4.2 cost consideration', '4.3 cost consideration',\n",
       "       '4.4 cost consideration', '4.5 cost consideration',\n",
       "       '5.1 consumer preference', '5.2 consumer preference',\n",
       "       '5.3 consumer preference', '5.4 consumer preference',\n",
       "       '5.5 consumer preference', '6.1 evm consideration',\n",
       "       '6.2 evm consideration', '6.3 evm consideration',\n",
       "       '6.4 evm consideration'],\n",
       "      dtype='object')"
      ]
     },
     "execution_count": 94,
     "metadata": {},
     "output_type": "execute_result"
    }
   ],
   "source": [
    "cat_col = data.iloc[:, 9:].columns\n",
    "cat_col"
   ]
  },
  {
   "cell_type": "markdown",
   "metadata": {},
   "source": [
    "# Chi2 test for independence of attrbutes\n",
    "\n"
   ]
  },
  {
   "cell_type": "markdown",
   "metadata": {},
   "source": [
    "## 1. Gender vs Ratings\n",
    "\n",
    "### Null Hypothesis : There is no association between Gender and Ratings.\n",
    "### Alternative Hypothesis : There is a association between Gender and Ratings. "
   ]
  },
  {
   "cell_type": "code",
   "execution_count": 95,
   "metadata": {},
   "outputs": [],
   "source": [
    "chi_result = []\n",
    "for i in cat_col:\n",
    "    genchi2_sol = chi2_contingency(pd.crosstab(data[i],data['Gender']))\n",
    "    if genchi2_sol[1] < 0.05:\n",
    "        chi_result.append(\"Reject the null hypothesis(variables are dependent)\")\n",
    "    else:\n",
    "        chi_result.append(\"Accept the null hypothesis(variables are independent)\")\n"
   ]
  },
  {
   "cell_type": "code",
   "execution_count": 96,
   "metadata": {},
   "outputs": [
    {
     "name": "stdout",
     "output_type": "stream",
     "text": [
      "Chi2 statistics: 4.1830929618326875\n",
      "p_val: 0.3817936361139577\n",
      "Dof: 4\n"
     ]
    }
   ],
   "source": [
    "print(\"Chi2 statistics:\", genchi2_sol[0])\n",
    "print(\"p_val:\",genchi2_sol[1] )\n",
    "print(\"Dof:\", genchi2_sol[2])"
   ]
  },
  {
   "cell_type": "code",
   "execution_count": 97,
   "metadata": {},
   "outputs": [
    {
     "name": "stdout",
     "output_type": "stream",
     "text": [
      "               cat_features                                         Hypothesis\n",
      "0     1.1 current awareness  Accept the null hypothesis(variables are indep...\n",
      "1     1.2 current awareness  Accept the null hypothesis(variables are indep...\n",
      "2     1.3 current awareness  Accept the null hypothesis(variables are indep...\n",
      "3     1.4 current awareness  Reject the null hypothesis(variables are depen...\n",
      "4     2.1 user satisfaction  Accept the null hypothesis(variables are indep...\n",
      "5     2.2 user satisfaction  Reject the null hypothesis(variables are depen...\n",
      "6     2.3 user satisfaction  Accept the null hypothesis(variables are indep...\n",
      "7     2.4 user satisfaction  Reject the null hypothesis(variables are depen...\n",
      "8     2.5 user satisfaction  Accept the null hypothesis(variables are indep...\n",
      "9   3.1 charging facilities  Accept the null hypothesis(variables are indep...\n",
      "10  3.2 charging facilities  Accept the null hypothesis(variables are indep...\n",
      "11  3.3 charging facilities  Reject the null hypothesis(variables are depen...\n",
      "12  3.4 charging facilities  Accept the null hypothesis(variables are indep...\n",
      "13   4.1 cost consideration  Accept the null hypothesis(variables are indep...\n",
      "14   4.2 cost consideration  Reject the null hypothesis(variables are depen...\n",
      "15   4.3 cost consideration  Accept the null hypothesis(variables are indep...\n",
      "16   4.4 cost consideration  Accept the null hypothesis(variables are indep...\n",
      "17   4.5 cost consideration  Reject the null hypothesis(variables are depen...\n",
      "18  5.1 consumer preference  Accept the null hypothesis(variables are indep...\n",
      "19  5.2 consumer preference  Accept the null hypothesis(variables are indep...\n",
      "20  5.3 consumer preference  Accept the null hypothesis(variables are indep...\n",
      "21  5.4 consumer preference  Accept the null hypothesis(variables are indep...\n",
      "22  5.5 consumer preference  Accept the null hypothesis(variables are indep...\n",
      "23    6.1 evm consideration  Reject the null hypothesis(variables are depen...\n",
      "24    6.2 evm consideration  Accept the null hypothesis(variables are indep...\n",
      "25    6.3 evm consideration  Accept the null hypothesis(variables are indep...\n",
      "26    6.4 evm consideration  Accept the null hypothesis(variables are indep...\n"
     ]
    }
   ],
   "source": [
    "gen_result_chi = pd.DataFrame(data=[cat_col, chi_result]).T\n",
    "gen_result_chi.columns = ['cat_features', 'Hypothesis']\n",
    "print(gen_result_chi)\n"
   ]
  },
  {
   "cell_type": "code",
   "execution_count": 98,
   "metadata": {},
   "outputs": [
    {
     "data": {
      "text/plain": [
       "Hypothesis\n",
       "Accept the null hypothesis(variables are independent)    20\n",
       "Reject the null hypothesis(variables are dependent)       7\n",
       "Name: count, dtype: int64"
      ]
     },
     "execution_count": 98,
     "metadata": {},
     "output_type": "execute_result"
    }
   ],
   "source": [
    "gen_result_chi['Hypothesis'].value_counts()"
   ]
  },
  {
   "cell_type": "code",
   "execution_count": 99,
   "metadata": {},
   "outputs": [
    {
     "data": {
      "text/html": [
       "<div>\n",
       "<style scoped>\n",
       "    .dataframe tbody tr th:only-of-type {\n",
       "        vertical-align: middle;\n",
       "    }\n",
       "\n",
       "    .dataframe tbody tr th {\n",
       "        vertical-align: top;\n",
       "    }\n",
       "\n",
       "    .dataframe thead th {\n",
       "        text-align: right;\n",
       "    }\n",
       "</style>\n",
       "<table border=\"1\" class=\"dataframe\">\n",
       "  <thead>\n",
       "    <tr style=\"text-align: right;\">\n",
       "      <th></th>\n",
       "      <th>cat_features</th>\n",
       "      <th>Hypothesis</th>\n",
       "    </tr>\n",
       "  </thead>\n",
       "  <tbody>\n",
       "    <tr>\n",
       "      <th>count</th>\n",
       "      <td>27</td>\n",
       "      <td>27</td>\n",
       "    </tr>\n",
       "    <tr>\n",
       "      <th>unique</th>\n",
       "      <td>27</td>\n",
       "      <td>2</td>\n",
       "    </tr>\n",
       "    <tr>\n",
       "      <th>top</th>\n",
       "      <td>1.1 current awareness</td>\n",
       "      <td>Accept the null hypothesis(variables are indep...</td>\n",
       "    </tr>\n",
       "    <tr>\n",
       "      <th>freq</th>\n",
       "      <td>1</td>\n",
       "      <td>20</td>\n",
       "    </tr>\n",
       "  </tbody>\n",
       "</table>\n",
       "</div>"
      ],
      "text/plain": [
       "                 cat_features  \\\n",
       "count                      27   \n",
       "unique                     27   \n",
       "top     1.1 current awareness   \n",
       "freq                        1   \n",
       "\n",
       "                                               Hypothesis  \n",
       "count                                                  27  \n",
       "unique                                                  2  \n",
       "top     Accept the null hypothesis(variables are indep...  \n",
       "freq                                                   20  "
      ]
     },
     "execution_count": 99,
     "metadata": {},
     "output_type": "execute_result"
    }
   ],
   "source": [
    "gen_result_chi.describe(include='all')"
   ]
  },
  {
   "cell_type": "markdown",
   "metadata": {},
   "source": [
    "After analysing the results we accept the null hypothesis.\n",
    "\n",
    "* There is no association between Gender and Ratings."
   ]
  },
  {
   "cell_type": "markdown",
   "metadata": {},
   "source": [
    "## 2. Age vs Ratings\n",
    "\n",
    "### Null Hypothesis : There is no association between Age and Ratings.\n",
    "### Alternative Hypothesis : There is an association between Age and Ratings. "
   ]
  },
  {
   "cell_type": "code",
   "execution_count": 100,
   "metadata": {},
   "outputs": [],
   "source": [
    "chi_result1 = []\n",
    "for i in cat_col:\n",
    "    agechi2_sol = chi2_contingency(pd.crosstab(data[i],data['Age']))\n",
    "    if agechi2_sol[1]< 0.05:\n",
    "        chi_result1.append(\"Reject the null hypothesis(variables are dependent)\")\n",
    "    else:\n",
    "        chi_result1.append(\"Accept the null hypothesis(variables are independent)\")\n"
   ]
  },
  {
   "cell_type": "code",
   "execution_count": 101,
   "metadata": {},
   "outputs": [
    {
     "name": "stdout",
     "output_type": "stream",
     "text": [
      "Chi2 statistics: 15.01724448628295\n",
      "p_val: 0.05881101767929782\n",
      "Dof: 8\n"
     ]
    }
   ],
   "source": [
    "print(\"Chi2 statistics:\", agechi2_sol[0])\n",
    "print(\"p_val:\", agechi2_sol[1])\n",
    "print(\"Dof:\", agechi2_sol[2])"
   ]
  },
  {
   "cell_type": "code",
   "execution_count": 109,
   "metadata": {},
   "outputs": [
    {
     "name": "stdout",
     "output_type": "stream",
     "text": [
      "               cat_features                                         Hypothesis\n",
      "0     1.1 current awareness  Accept the null hypothesis(variables are indep...\n",
      "1     1.2 current awareness  Accept the null hypothesis(variables are indep...\n",
      "2     1.3 current awareness  Accept the null hypothesis(variables are indep...\n",
      "3     1.4 current awareness  Accept the null hypothesis(variables are indep...\n",
      "4     2.1 user satisfaction  Accept the null hypothesis(variables are indep...\n",
      "5     2.2 user satisfaction  Accept the null hypothesis(variables are indep...\n",
      "6     2.3 user satisfaction  Accept the null hypothesis(variables are indep...\n",
      "7     2.4 user satisfaction  Accept the null hypothesis(variables are indep...\n",
      "8     2.5 user satisfaction  Reject the null hypothesis(variables are depen...\n",
      "9   3.1 charging facilities  Reject the null hypothesis(variables are depen...\n",
      "10  3.2 charging facilities  Reject the null hypothesis(variables are depen...\n",
      "11  3.3 charging facilities  Accept the null hypothesis(variables are indep...\n",
      "12  3.4 charging facilities  Reject the null hypothesis(variables are depen...\n",
      "13   4.1 cost consideration  Accept the null hypothesis(variables are indep...\n",
      "14   4.2 cost consideration  Accept the null hypothesis(variables are indep...\n",
      "15   4.3 cost consideration  Accept the null hypothesis(variables are indep...\n",
      "16   4.4 cost consideration  Accept the null hypothesis(variables are indep...\n",
      "17   4.5 cost consideration  Reject the null hypothesis(variables are depen...\n",
      "18  5.1 consumer preference  Reject the null hypothesis(variables are depen...\n",
      "19  5.2 consumer preference  Accept the null hypothesis(variables are indep...\n",
      "20  5.3 consumer preference  Reject the null hypothesis(variables are depen...\n",
      "21  5.4 consumer preference  Accept the null hypothesis(variables are indep...\n",
      "22  5.5 consumer preference  Reject the null hypothesis(variables are depen...\n",
      "23    6.1 evm consideration  Reject the null hypothesis(variables are depen...\n",
      "24    6.2 evm consideration  Accept the null hypothesis(variables are indep...\n",
      "25    6.3 evm consideration  Reject the null hypothesis(variables are depen...\n",
      "26    6.4 evm consideration  Accept the null hypothesis(variables are indep...\n"
     ]
    }
   ],
   "source": [
    "age_result_chi = pd.DataFrame(data=[cat_col, chi_result1]).T\n",
    "age_result_chi.columns = ['cat_features', 'Hypothesis']\n",
    "print(age_result_chi)\n"
   ]
  },
  {
   "cell_type": "code",
   "execution_count": 110,
   "metadata": {},
   "outputs": [
    {
     "data": {
      "text/plain": [
       "Hypothesis\n",
       "Accept the null hypothesis(variables are independent)    17\n",
       "Reject the null hypothesis(variables are dependent)      10\n",
       "Name: count, dtype: int64"
      ]
     },
     "execution_count": 110,
     "metadata": {},
     "output_type": "execute_result"
    }
   ],
   "source": [
    "age_result_chi['Hypothesis'].value_counts()"
   ]
  },
  {
   "cell_type": "code",
   "execution_count": 111,
   "metadata": {},
   "outputs": [
    {
     "data": {
      "text/html": [
       "<div>\n",
       "<style scoped>\n",
       "    .dataframe tbody tr th:only-of-type {\n",
       "        vertical-align: middle;\n",
       "    }\n",
       "\n",
       "    .dataframe tbody tr th {\n",
       "        vertical-align: top;\n",
       "    }\n",
       "\n",
       "    .dataframe thead th {\n",
       "        text-align: right;\n",
       "    }\n",
       "</style>\n",
       "<table border=\"1\" class=\"dataframe\">\n",
       "  <thead>\n",
       "    <tr style=\"text-align: right;\">\n",
       "      <th></th>\n",
       "      <th>cat_features</th>\n",
       "      <th>Hypothesis</th>\n",
       "    </tr>\n",
       "  </thead>\n",
       "  <tbody>\n",
       "    <tr>\n",
       "      <th>count</th>\n",
       "      <td>27</td>\n",
       "      <td>27</td>\n",
       "    </tr>\n",
       "    <tr>\n",
       "      <th>unique</th>\n",
       "      <td>27</td>\n",
       "      <td>2</td>\n",
       "    </tr>\n",
       "    <tr>\n",
       "      <th>top</th>\n",
       "      <td>1.1 current awareness</td>\n",
       "      <td>Accept the null hypothesis(variables are indep...</td>\n",
       "    </tr>\n",
       "    <tr>\n",
       "      <th>freq</th>\n",
       "      <td>1</td>\n",
       "      <td>17</td>\n",
       "    </tr>\n",
       "  </tbody>\n",
       "</table>\n",
       "</div>"
      ],
      "text/plain": [
       "                 cat_features  \\\n",
       "count                      27   \n",
       "unique                     27   \n",
       "top     1.1 current awareness   \n",
       "freq                        1   \n",
       "\n",
       "                                               Hypothesis  \n",
       "count                                                  27  \n",
       "unique                                                  2  \n",
       "top     Accept the null hypothesis(variables are indep...  \n",
       "freq                                                   17  "
      ]
     },
     "execution_count": 111,
     "metadata": {},
     "output_type": "execute_result"
    }
   ],
   "source": [
    "age_result_chi.describe(include='all')"
   ]
  },
  {
   "cell_type": "markdown",
   "metadata": {},
   "source": [
    "After analysing the results we accept the null hypothesis.\n",
    "\n",
    "* There is no association between Age and Ratings."
   ]
  },
  {
   "cell_type": "markdown",
   "metadata": {},
   "source": [
    "## 3. Area of Residence vs Ratings\n",
    "\n",
    "### Null Hypothesis : There is no association between Area of Residence and Ratings.\n",
    "### Alternative Hypothesis : There is an association between Area of Residence and Ratings. "
   ]
  },
  {
   "cell_type": "code",
   "execution_count": 108,
   "metadata": {},
   "outputs": [
    {
     "data": {
      "text/plain": [
       "Index(['Name', 'Gender', 'Age', 'Employment Status',\n",
       "       'Education Qualification ', 'District', 'Area of Residence',\n",
       "       'type of vehicle', 'EV'],\n",
       "      dtype='object')"
      ]
     },
     "execution_count": 108,
     "metadata": {},
     "output_type": "execute_result"
    }
   ],
   "source": [
    "data.iloc[:, :9].columns"
   ]
  },
  {
   "cell_type": "code",
   "execution_count": 112,
   "metadata": {},
   "outputs": [],
   "source": [
    "chi_result2 = []\n",
    "for i in cat_col:\n",
    "    area_chi2_sol = chi2_contingency(pd.crosstab(data[i],data['Area of Residence']))\n",
    "    if area_chi2_sol[1]< 0.05:\n",
    "        chi_result2.append(\"Reject the null hypothesis(variables are dependent)\")\n",
    "    else:\n",
    "        chi_result2.append(\"Accept the null hypothesis(variables are independent)\")\n"
   ]
  },
  {
   "cell_type": "code",
   "execution_count": 114,
   "metadata": {},
   "outputs": [
    {
     "name": "stdout",
     "output_type": "stream",
     "text": [
      "Chi2 statistics: 14.422673306689054\n",
      "p_val: 0.006061360887775882\n",
      "Dof: 4\n"
     ]
    }
   ],
   "source": [
    "print(\"Chi2 statistics:\", area_chi2_sol[0])\n",
    "print(\"p_val:\", area_chi2_sol[1])\n",
    "print(\"Dof:\", area_chi2_sol[2])"
   ]
  },
  {
   "cell_type": "code",
   "execution_count": 115,
   "metadata": {},
   "outputs": [
    {
     "name": "stdout",
     "output_type": "stream",
     "text": [
      "               cat_features                                         Hypothesis\n",
      "0     1.1 current awareness  Accept the null hypothesis(variables are indep...\n",
      "1     1.2 current awareness  Reject the null hypothesis(variables are depen...\n",
      "2     1.3 current awareness  Reject the null hypothesis(variables are depen...\n",
      "3     1.4 current awareness  Accept the null hypothesis(variables are indep...\n",
      "4     2.1 user satisfaction  Accept the null hypothesis(variables are indep...\n",
      "5     2.2 user satisfaction  Accept the null hypothesis(variables are indep...\n",
      "6     2.3 user satisfaction  Accept the null hypothesis(variables are indep...\n",
      "7     2.4 user satisfaction  Accept the null hypothesis(variables are indep...\n",
      "8     2.5 user satisfaction  Reject the null hypothesis(variables are depen...\n",
      "9   3.1 charging facilities  Reject the null hypothesis(variables are depen...\n",
      "10  3.2 charging facilities  Reject the null hypothesis(variables are depen...\n",
      "11  3.3 charging facilities  Accept the null hypothesis(variables are indep...\n",
      "12  3.4 charging facilities  Reject the null hypothesis(variables are depen...\n",
      "13   4.1 cost consideration  Reject the null hypothesis(variables are depen...\n",
      "14   4.2 cost consideration  Accept the null hypothesis(variables are indep...\n",
      "15   4.3 cost consideration  Accept the null hypothesis(variables are indep...\n",
      "16   4.4 cost consideration  Reject the null hypothesis(variables are depen...\n",
      "17   4.5 cost consideration  Reject the null hypothesis(variables are depen...\n",
      "18  5.1 consumer preference  Reject the null hypothesis(variables are depen...\n",
      "19  5.2 consumer preference  Reject the null hypothesis(variables are depen...\n",
      "20  5.3 consumer preference  Accept the null hypothesis(variables are indep...\n",
      "21  5.4 consumer preference  Accept the null hypothesis(variables are indep...\n",
      "22  5.5 consumer preference  Reject the null hypothesis(variables are depen...\n",
      "23    6.1 evm consideration  Accept the null hypothesis(variables are indep...\n",
      "24    6.2 evm consideration  Reject the null hypothesis(variables are depen...\n",
      "25    6.3 evm consideration  Reject the null hypothesis(variables are depen...\n",
      "26    6.4 evm consideration  Reject the null hypothesis(variables are depen...\n"
     ]
    }
   ],
   "source": [
    "area_result_chi = pd.DataFrame(data=[cat_col, chi_result2]).T\n",
    "area_result_chi.columns = ['cat_features', 'Hypothesis']\n",
    "print(area_result_chi)\n"
   ]
  },
  {
   "cell_type": "code",
   "execution_count": 116,
   "metadata": {},
   "outputs": [
    {
     "data": {
      "text/plain": [
       "Hypothesis\n",
       "Reject the null hypothesis(variables are dependent)      15\n",
       "Accept the null hypothesis(variables are independent)    12\n",
       "Name: count, dtype: int64"
      ]
     },
     "execution_count": 116,
     "metadata": {},
     "output_type": "execute_result"
    }
   ],
   "source": [
    "area_result_chi['Hypothesis'].value_counts()"
   ]
  },
  {
   "cell_type": "code",
   "execution_count": 117,
   "metadata": {},
   "outputs": [
    {
     "data": {
      "text/html": [
       "<div>\n",
       "<style scoped>\n",
       "    .dataframe tbody tr th:only-of-type {\n",
       "        vertical-align: middle;\n",
       "    }\n",
       "\n",
       "    .dataframe tbody tr th {\n",
       "        vertical-align: top;\n",
       "    }\n",
       "\n",
       "    .dataframe thead th {\n",
       "        text-align: right;\n",
       "    }\n",
       "</style>\n",
       "<table border=\"1\" class=\"dataframe\">\n",
       "  <thead>\n",
       "    <tr style=\"text-align: right;\">\n",
       "      <th></th>\n",
       "      <th>cat_features</th>\n",
       "      <th>Hypothesis</th>\n",
       "    </tr>\n",
       "  </thead>\n",
       "  <tbody>\n",
       "    <tr>\n",
       "      <th>count</th>\n",
       "      <td>27</td>\n",
       "      <td>27</td>\n",
       "    </tr>\n",
       "    <tr>\n",
       "      <th>unique</th>\n",
       "      <td>27</td>\n",
       "      <td>2</td>\n",
       "    </tr>\n",
       "    <tr>\n",
       "      <th>top</th>\n",
       "      <td>1.1 current awareness</td>\n",
       "      <td>Reject the null hypothesis(variables are depen...</td>\n",
       "    </tr>\n",
       "    <tr>\n",
       "      <th>freq</th>\n",
       "      <td>1</td>\n",
       "      <td>15</td>\n",
       "    </tr>\n",
       "  </tbody>\n",
       "</table>\n",
       "</div>"
      ],
      "text/plain": [
       "                 cat_features  \\\n",
       "count                      27   \n",
       "unique                     27   \n",
       "top     1.1 current awareness   \n",
       "freq                        1   \n",
       "\n",
       "                                               Hypothesis  \n",
       "count                                                  27  \n",
       "unique                                                  2  \n",
       "top     Reject the null hypothesis(variables are depen...  \n",
       "freq                                                   15  "
      ]
     },
     "execution_count": 117,
     "metadata": {},
     "output_type": "execute_result"
    }
   ],
   "source": [
    "area_result_chi.describe(include='all')"
   ]
  },
  {
   "cell_type": "markdown",
   "metadata": {},
   "source": [
    "After analysing the results we reject the null hypothesis.\n",
    "\n",
    "* There is an association between Area of residence and Ratings."
   ]
  },
  {
   "cell_type": "markdown",
   "metadata": {},
   "source": [
    "## 4. Employment Status vs Ratings\n",
    "\n",
    "### Null Hypothesis : There is no association between Employment Status and Ratings.\n",
    "### Alternative Hypothesis : There is an association between Employment Status and Ratings. "
   ]
  },
  {
   "cell_type": "code",
   "execution_count": 118,
   "metadata": {},
   "outputs": [
    {
     "data": {
      "text/plain": [
       "Index(['Name', 'Gender', 'Age', 'Employment Status',\n",
       "       'Education Qualification ', 'District', 'Area of Residence',\n",
       "       'type of vehicle', 'EV'],\n",
       "      dtype='object')"
      ]
     },
     "execution_count": 118,
     "metadata": {},
     "output_type": "execute_result"
    }
   ],
   "source": [
    "data.iloc[:, :9].columns"
   ]
  },
  {
   "cell_type": "code",
   "execution_count": 119,
   "metadata": {},
   "outputs": [],
   "source": [
    "chi_result3 = []\n",
    "for i in cat_col:\n",
    "    employment_chi2_sol = chi2_contingency(pd.crosstab(data[i],data['Employment Status']))\n",
    "    if employment_chi2_sol[1]< 0.05:\n",
    "        chi_result3.append(\"Reject the null hypothesis(variables are dependent)\")\n",
    "    else:\n",
    "        chi_result3.append(\"Accept the null hypothesis(variables are independent)\")\n"
   ]
  },
  {
   "cell_type": "code",
   "execution_count": 120,
   "metadata": {},
   "outputs": [
    {
     "name": "stdout",
     "output_type": "stream",
     "text": [
      "Chi2 statistics: 20.397002306301758\n",
      "p_val: 0.05993893431648853\n",
      "Dof: 12\n"
     ]
    }
   ],
   "source": [
    "print(\"Chi2 statistics:\", employment_chi2_sol[0])\n",
    "print(\"p_val:\", employment_chi2_sol[1])\n",
    "print(\"Dof:\", employment_chi2_sol[2])"
   ]
  },
  {
   "cell_type": "code",
   "execution_count": 121,
   "metadata": {},
   "outputs": [
    {
     "name": "stdout",
     "output_type": "stream",
     "text": [
      "               cat_features                                         Hypothesis\n",
      "0     1.1 current awareness  Accept the null hypothesis(variables are indep...\n",
      "1     1.2 current awareness  Accept the null hypothesis(variables are indep...\n",
      "2     1.3 current awareness  Accept the null hypothesis(variables are indep...\n",
      "3     1.4 current awareness  Accept the null hypothesis(variables are indep...\n",
      "4     2.1 user satisfaction  Accept the null hypothesis(variables are indep...\n",
      "5     2.2 user satisfaction  Reject the null hypothesis(variables are depen...\n",
      "6     2.3 user satisfaction  Accept the null hypothesis(variables are indep...\n",
      "7     2.4 user satisfaction  Accept the null hypothesis(variables are indep...\n",
      "8     2.5 user satisfaction  Reject the null hypothesis(variables are depen...\n",
      "9   3.1 charging facilities  Reject the null hypothesis(variables are depen...\n",
      "10  3.2 charging facilities  Reject the null hypothesis(variables are depen...\n",
      "11  3.3 charging facilities  Accept the null hypothesis(variables are indep...\n",
      "12  3.4 charging facilities  Accept the null hypothesis(variables are indep...\n",
      "13   4.1 cost consideration  Accept the null hypothesis(variables are indep...\n",
      "14   4.2 cost consideration  Accept the null hypothesis(variables are indep...\n",
      "15   4.3 cost consideration  Accept the null hypothesis(variables are indep...\n",
      "16   4.4 cost consideration  Accept the null hypothesis(variables are indep...\n",
      "17   4.5 cost consideration  Reject the null hypothesis(variables are depen...\n",
      "18  5.1 consumer preference  Accept the null hypothesis(variables are indep...\n",
      "19  5.2 consumer preference  Accept the null hypothesis(variables are indep...\n",
      "20  5.3 consumer preference  Accept the null hypothesis(variables are indep...\n",
      "21  5.4 consumer preference  Accept the null hypothesis(variables are indep...\n",
      "22  5.5 consumer preference  Reject the null hypothesis(variables are depen...\n",
      "23    6.1 evm consideration  Reject the null hypothesis(variables are depen...\n",
      "24    6.2 evm consideration  Reject the null hypothesis(variables are depen...\n",
      "25    6.3 evm consideration  Reject the null hypothesis(variables are depen...\n",
      "26    6.4 evm consideration  Accept the null hypothesis(variables are indep...\n"
     ]
    }
   ],
   "source": [
    "employment_result_chi = pd.DataFrame(data=[cat_col, chi_result3]).T\n",
    "employment_result_chi.columns = ['cat_features', 'Hypothesis']\n",
    "print(employment_result_chi)\n"
   ]
  },
  {
   "cell_type": "code",
   "execution_count": 122,
   "metadata": {},
   "outputs": [
    {
     "data": {
      "text/plain": [
       "Hypothesis\n",
       "Accept the null hypothesis(variables are independent)    18\n",
       "Reject the null hypothesis(variables are dependent)       9\n",
       "Name: count, dtype: int64"
      ]
     },
     "execution_count": 122,
     "metadata": {},
     "output_type": "execute_result"
    }
   ],
   "source": [
    "employment_result_chi['Hypothesis'].value_counts()"
   ]
  },
  {
   "cell_type": "code",
   "execution_count": 123,
   "metadata": {},
   "outputs": [
    {
     "data": {
      "text/html": [
       "<div>\n",
       "<style scoped>\n",
       "    .dataframe tbody tr th:only-of-type {\n",
       "        vertical-align: middle;\n",
       "    }\n",
       "\n",
       "    .dataframe tbody tr th {\n",
       "        vertical-align: top;\n",
       "    }\n",
       "\n",
       "    .dataframe thead th {\n",
       "        text-align: right;\n",
       "    }\n",
       "</style>\n",
       "<table border=\"1\" class=\"dataframe\">\n",
       "  <thead>\n",
       "    <tr style=\"text-align: right;\">\n",
       "      <th></th>\n",
       "      <th>cat_features</th>\n",
       "      <th>Hypothesis</th>\n",
       "    </tr>\n",
       "  </thead>\n",
       "  <tbody>\n",
       "    <tr>\n",
       "      <th>count</th>\n",
       "      <td>27</td>\n",
       "      <td>27</td>\n",
       "    </tr>\n",
       "    <tr>\n",
       "      <th>unique</th>\n",
       "      <td>27</td>\n",
       "      <td>2</td>\n",
       "    </tr>\n",
       "    <tr>\n",
       "      <th>top</th>\n",
       "      <td>1.1 current awareness</td>\n",
       "      <td>Accept the null hypothesis(variables are indep...</td>\n",
       "    </tr>\n",
       "    <tr>\n",
       "      <th>freq</th>\n",
       "      <td>1</td>\n",
       "      <td>18</td>\n",
       "    </tr>\n",
       "  </tbody>\n",
       "</table>\n",
       "</div>"
      ],
      "text/plain": [
       "                 cat_features  \\\n",
       "count                      27   \n",
       "unique                     27   \n",
       "top     1.1 current awareness   \n",
       "freq                        1   \n",
       "\n",
       "                                               Hypothesis  \n",
       "count                                                  27  \n",
       "unique                                                  2  \n",
       "top     Accept the null hypothesis(variables are indep...  \n",
       "freq                                                   18  "
      ]
     },
     "execution_count": 123,
     "metadata": {},
     "output_type": "execute_result"
    }
   ],
   "source": [
    "employment_result_chi.describe(include='all')"
   ]
  },
  {
   "cell_type": "markdown",
   "metadata": {},
   "source": [
    "After analysing the results we accept the null hypothesis.\n",
    "\n",
    "* There is no association between Employment status and Ratings."
   ]
  },
  {
   "cell_type": "markdown",
   "metadata": {},
   "source": [
    "## 5. Education Qualification vs Ratings\n",
    "\n",
    "### Null Hypothesis : There is no association between Education Qualification and Ratings.\n",
    "### Alternative Hypothesis : There is an association between Education Qualification and Ratings. "
   ]
  },
  {
   "cell_type": "code",
   "execution_count": 124,
   "metadata": {},
   "outputs": [
    {
     "data": {
      "text/plain": [
       "Index(['Name', 'Gender', 'Age', 'Employment Status',\n",
       "       'Education Qualification ', 'District', 'Area of Residence',\n",
       "       'type of vehicle', 'EV'],\n",
       "      dtype='object')"
      ]
     },
     "execution_count": 124,
     "metadata": {},
     "output_type": "execute_result"
    }
   ],
   "source": [
    "data.iloc[:, :9].columns"
   ]
  },
  {
   "cell_type": "code",
   "execution_count": 125,
   "metadata": {},
   "outputs": [],
   "source": [
    "chi_result4 = []\n",
    "for i in cat_col:\n",
    "    Education_chi2_sol = chi2_contingency(pd.crosstab(data[i],data['Education Qualification ']))\n",
    "    if Education_chi2_sol[1]< 0.05:\n",
    "        chi_result4.append(\"Reject the null hypothesis(variables are dependent)\")\n",
    "    else:\n",
    "        chi_result4.append(\"Accept the null hypothesis(variables are independent)\")\n"
   ]
  },
  {
   "cell_type": "code",
   "execution_count": 126,
   "metadata": {},
   "outputs": [
    {
     "name": "stdout",
     "output_type": "stream",
     "text": [
      "Chi2 statistics: 32.133196799589\n",
      "p_val: 0.04189954661530382\n",
      "Dof: 20\n"
     ]
    }
   ],
   "source": [
    "print(\"Chi2 statistics:\", Education_chi2_sol[0])\n",
    "print(\"p_val:\", Education_chi2_sol[1])\n",
    "print(\"Dof:\", Education_chi2_sol[2])"
   ]
  },
  {
   "cell_type": "code",
   "execution_count": 127,
   "metadata": {},
   "outputs": [
    {
     "name": "stdout",
     "output_type": "stream",
     "text": [
      "               cat_features                                         Hypothesis\n",
      "0     1.1 current awareness  Accept the null hypothesis(variables are indep...\n",
      "1     1.2 current awareness  Accept the null hypothesis(variables are indep...\n",
      "2     1.3 current awareness  Accept the null hypothesis(variables are indep...\n",
      "3     1.4 current awareness  Accept the null hypothesis(variables are indep...\n",
      "4     2.1 user satisfaction  Accept the null hypothesis(variables are indep...\n",
      "5     2.2 user satisfaction  Accept the null hypothesis(variables are indep...\n",
      "6     2.3 user satisfaction  Accept the null hypothesis(variables are indep...\n",
      "7     2.4 user satisfaction  Accept the null hypothesis(variables are indep...\n",
      "8     2.5 user satisfaction  Accept the null hypothesis(variables are indep...\n",
      "9   3.1 charging facilities  Accept the null hypothesis(variables are indep...\n",
      "10  3.2 charging facilities  Reject the null hypothesis(variables are depen...\n",
      "11  3.3 charging facilities  Reject the null hypothesis(variables are depen...\n",
      "12  3.4 charging facilities  Accept the null hypothesis(variables are indep...\n",
      "13   4.1 cost consideration  Accept the null hypothesis(variables are indep...\n",
      "14   4.2 cost consideration  Accept the null hypothesis(variables are indep...\n",
      "15   4.3 cost consideration  Accept the null hypothesis(variables are indep...\n",
      "16   4.4 cost consideration  Accept the null hypothesis(variables are indep...\n",
      "17   4.5 cost consideration  Accept the null hypothesis(variables are indep...\n",
      "18  5.1 consumer preference  Accept the null hypothesis(variables are indep...\n",
      "19  5.2 consumer preference  Accept the null hypothesis(variables are indep...\n",
      "20  5.3 consumer preference  Accept the null hypothesis(variables are indep...\n",
      "21  5.4 consumer preference  Accept the null hypothesis(variables are indep...\n",
      "22  5.5 consumer preference  Accept the null hypothesis(variables are indep...\n",
      "23    6.1 evm consideration  Accept the null hypothesis(variables are indep...\n",
      "24    6.2 evm consideration  Accept the null hypothesis(variables are indep...\n",
      "25    6.3 evm consideration  Accept the null hypothesis(variables are indep...\n",
      "26    6.4 evm consideration  Reject the null hypothesis(variables are depen...\n"
     ]
    }
   ],
   "source": [
    "Education_result_chi = pd.DataFrame(data=[cat_col, chi_result4]).T\n",
    "Education_result_chi.columns = ['cat_features', 'Hypothesis']\n",
    "print(Education_result_chi)\n"
   ]
  },
  {
   "cell_type": "code",
   "execution_count": 128,
   "metadata": {},
   "outputs": [
    {
     "data": {
      "text/plain": [
       "Hypothesis\n",
       "Accept the null hypothesis(variables are independent)    24\n",
       "Reject the null hypothesis(variables are dependent)       3\n",
       "Name: count, dtype: int64"
      ]
     },
     "execution_count": 128,
     "metadata": {},
     "output_type": "execute_result"
    }
   ],
   "source": [
    "Education_result_chi['Hypothesis'].value_counts()"
   ]
  },
  {
   "cell_type": "code",
   "execution_count": 131,
   "metadata": {},
   "outputs": [
    {
     "data": {
      "text/plain": [
       "count                                                    27\n",
       "unique                                                    2\n",
       "top       Accept the null hypothesis(variables are indep...\n",
       "freq                                                     24\n",
       "Name: Hypothesis, dtype: object"
      ]
     },
     "execution_count": 131,
     "metadata": {},
     "output_type": "execute_result"
    }
   ],
   "source": [
    "Education_result_chi['Hypothesis'].describe()"
   ]
  },
  {
   "cell_type": "markdown",
   "metadata": {},
   "source": [
    "After analysing the results we accept the null hypothesis.\n",
    "\n",
    "* There is no association between Education Qualification and Ratings."
   ]
  },
  {
   "cell_type": "markdown",
   "metadata": {},
   "source": [
    "## 6. Other vehicles users in current period vs Ratings\n",
    "\n",
    "### Null Hypothesis : There is no association between Other vehicles Users and Ratings.\n",
    "### Alternative Hypothesis : There is an association between Other vehicles Users and Ratings. "
   ]
  },
  {
   "cell_type": "code",
   "execution_count": 132,
   "metadata": {},
   "outputs": [
    {
     "data": {
      "text/plain": [
       "Index(['Name', 'Gender', 'Age', 'Employment Status',\n",
       "       'Education Qualification ', 'District', 'Area of Residence',\n",
       "       'type of vehicle', 'EV'],\n",
       "      dtype='object')"
      ]
     },
     "execution_count": 132,
     "metadata": {},
     "output_type": "execute_result"
    }
   ],
   "source": [
    "data.iloc[:, :9].columns"
   ]
  },
  {
   "cell_type": "code",
   "execution_count": 133,
   "metadata": {},
   "outputs": [],
   "source": [
    "chi_result5 = []\n",
    "for i in cat_col:\n",
    "    type_chi2_sol = chi2_contingency(pd.crosstab(data[i],data['type of vehicle']))\n",
    "    if type_chi2_sol[1]< 0.05:\n",
    "        chi_result5.append(\"Reject the null hypothesis(variables are dependent)\")\n",
    "    else:\n",
    "        chi_result5.append(\"Accept the null hypothesis(variables are independent)\")\n"
   ]
  },
  {
   "cell_type": "code",
   "execution_count": 134,
   "metadata": {},
   "outputs": [
    {
     "name": "stdout",
     "output_type": "stream",
     "text": [
      "Chi2 statistics: 21.6781320874734\n",
      "p_val: 0.04128955844457646\n",
      "Dof: 12\n"
     ]
    }
   ],
   "source": [
    "print(\"Chi2 statistics:\", type_chi2_sol[0])\n",
    "print(\"p_val:\", type_chi2_sol[1])\n",
    "print(\"Dof:\", type_chi2_sol[2])"
   ]
  },
  {
   "cell_type": "code",
   "execution_count": 135,
   "metadata": {},
   "outputs": [
    {
     "name": "stdout",
     "output_type": "stream",
     "text": [
      "               cat_features                                         Hypothesis\n",
      "0     1.1 current awareness  Reject the null hypothesis(variables are depen...\n",
      "1     1.2 current awareness  Reject the null hypothesis(variables are depen...\n",
      "2     1.3 current awareness  Reject the null hypothesis(variables are depen...\n",
      "3     1.4 current awareness  Accept the null hypothesis(variables are indep...\n",
      "4     2.1 user satisfaction  Reject the null hypothesis(variables are depen...\n",
      "5     2.2 user satisfaction  Reject the null hypothesis(variables are depen...\n",
      "6     2.3 user satisfaction  Reject the null hypothesis(variables are depen...\n",
      "7     2.4 user satisfaction  Reject the null hypothesis(variables are depen...\n",
      "8     2.5 user satisfaction  Reject the null hypothesis(variables are depen...\n",
      "9   3.1 charging facilities  Reject the null hypothesis(variables are depen...\n",
      "10  3.2 charging facilities  Reject the null hypothesis(variables are depen...\n",
      "11  3.3 charging facilities  Reject the null hypothesis(variables are depen...\n",
      "12  3.4 charging facilities  Reject the null hypothesis(variables are depen...\n",
      "13   4.1 cost consideration  Reject the null hypothesis(variables are depen...\n",
      "14   4.2 cost consideration  Reject the null hypothesis(variables are depen...\n",
      "15   4.3 cost consideration  Reject the null hypothesis(variables are depen...\n",
      "16   4.4 cost consideration  Reject the null hypothesis(variables are depen...\n",
      "17   4.5 cost consideration  Accept the null hypothesis(variables are indep...\n",
      "18  5.1 consumer preference  Reject the null hypothesis(variables are depen...\n",
      "19  5.2 consumer preference  Reject the null hypothesis(variables are depen...\n",
      "20  5.3 consumer preference  Reject the null hypothesis(variables are depen...\n",
      "21  5.4 consumer preference  Reject the null hypothesis(variables are depen...\n",
      "22  5.5 consumer preference  Reject the null hypothesis(variables are depen...\n",
      "23    6.1 evm consideration  Reject the null hypothesis(variables are depen...\n",
      "24    6.2 evm consideration  Reject the null hypothesis(variables are depen...\n",
      "25    6.3 evm consideration  Accept the null hypothesis(variables are indep...\n",
      "26    6.4 evm consideration  Reject the null hypothesis(variables are depen...\n"
     ]
    }
   ],
   "source": [
    "type_result_chi = pd.DataFrame(data=[cat_col, chi_result5]).T\n",
    "type_result_chi.columns = ['cat_features', 'Hypothesis']\n",
    "print(type_result_chi)\n"
   ]
  },
  {
   "cell_type": "code",
   "execution_count": 136,
   "metadata": {},
   "outputs": [
    {
     "data": {
      "text/plain": [
       "Hypothesis\n",
       "Reject the null hypothesis(variables are dependent)      24\n",
       "Accept the null hypothesis(variables are independent)     3\n",
       "Name: count, dtype: int64"
      ]
     },
     "execution_count": 136,
     "metadata": {},
     "output_type": "execute_result"
    }
   ],
   "source": [
    "type_result_chi['Hypothesis'].value_counts()"
   ]
  },
  {
   "cell_type": "code",
   "execution_count": 137,
   "metadata": {},
   "outputs": [
    {
     "data": {
      "text/plain": [
       "count                                                    27\n",
       "unique                                                    2\n",
       "top       Reject the null hypothesis(variables are depen...\n",
       "freq                                                     24\n",
       "Name: Hypothesis, dtype: object"
      ]
     },
     "execution_count": 137,
     "metadata": {},
     "output_type": "execute_result"
    }
   ],
   "source": [
    "type_result_chi['Hypothesis'].describe()"
   ]
  },
  {
   "cell_type": "markdown",
   "metadata": {},
   "source": [
    "After analysing the results we reject the null hypothesis.\n",
    "\n",
    "* There is an  association between Education Qualification and Ratings."
   ]
  },
  {
   "cell_type": "markdown",
   "metadata": {},
   "source": [
    "## 7. EV buyers and Non-buyers vs Ratings\n",
    "\n",
    "### Null Hypothesis : There is no association between EV buyers and Non-buyers, and Ratings.\n",
    "### Alternative Hypothesis : There is an association between EV buyers and Non-buyers, and Ratings. "
   ]
  },
  {
   "cell_type": "code",
   "execution_count": 138,
   "metadata": {},
   "outputs": [
    {
     "data": {
      "text/plain": [
       "Index(['Name', 'Gender', 'Age', 'Employment Status',\n",
       "       'Education Qualification ', 'District', 'Area of Residence',\n",
       "       'type of vehicle', 'EV'],\n",
       "      dtype='object')"
      ]
     },
     "execution_count": 138,
     "metadata": {},
     "output_type": "execute_result"
    }
   ],
   "source": [
    "data.iloc[:, :9].columns"
   ]
  },
  {
   "cell_type": "code",
   "execution_count": 139,
   "metadata": {},
   "outputs": [],
   "source": [
    "chi_result6 = []\n",
    "for i in cat_col:\n",
    "    EV_chi2_sol = chi2_contingency(pd.crosstab(data[i],data['EV']))\n",
    "    if EV_chi2_sol[1]< 0.05:\n",
    "        chi_result6.append(\"Reject the null hypothesis(variables are dependent)\")\n",
    "    else:\n",
    "        chi_result6.append(\"Accept the null hypothesis(variables are independent)\")\n"
   ]
  },
  {
   "cell_type": "code",
   "execution_count": 140,
   "metadata": {},
   "outputs": [
    {
     "name": "stdout",
     "output_type": "stream",
     "text": [
      "Chi2 statistics: 6.330517258988859\n",
      "p_val: 0.17578734880511415\n",
      "Dof: 4\n"
     ]
    }
   ],
   "source": [
    "print(\"Chi2 statistics:\", EV_chi2_sol[0])\n",
    "print(\"p_val:\", EV_chi2_sol[1])\n",
    "print(\"Dof:\", EV_chi2_sol[2])"
   ]
  },
  {
   "cell_type": "code",
   "execution_count": 141,
   "metadata": {},
   "outputs": [
    {
     "name": "stdout",
     "output_type": "stream",
     "text": [
      "               cat_features                                         Hypothesis\n",
      "0     1.1 current awareness  Reject the null hypothesis(variables are depen...\n",
      "1     1.2 current awareness  Reject the null hypothesis(variables are depen...\n",
      "2     1.3 current awareness  Reject the null hypothesis(variables are depen...\n",
      "3     1.4 current awareness  Accept the null hypothesis(variables are indep...\n",
      "4     2.1 user satisfaction  Reject the null hypothesis(variables are depen...\n",
      "5     2.2 user satisfaction  Accept the null hypothesis(variables are indep...\n",
      "6     2.3 user satisfaction  Reject the null hypothesis(variables are depen...\n",
      "7     2.4 user satisfaction  Reject the null hypothesis(variables are depen...\n",
      "8     2.5 user satisfaction  Reject the null hypothesis(variables are depen...\n",
      "9   3.1 charging facilities  Reject the null hypothesis(variables are depen...\n",
      "10  3.2 charging facilities  Reject the null hypothesis(variables are depen...\n",
      "11  3.3 charging facilities  Reject the null hypothesis(variables are depen...\n",
      "12  3.4 charging facilities  Reject the null hypothesis(variables are depen...\n",
      "13   4.1 cost consideration  Reject the null hypothesis(variables are depen...\n",
      "14   4.2 cost consideration  Reject the null hypothesis(variables are depen...\n",
      "15   4.3 cost consideration  Accept the null hypothesis(variables are indep...\n",
      "16   4.4 cost consideration  Reject the null hypothesis(variables are depen...\n",
      "17   4.5 cost consideration  Accept the null hypothesis(variables are indep...\n",
      "18  5.1 consumer preference  Reject the null hypothesis(variables are depen...\n",
      "19  5.2 consumer preference  Reject the null hypothesis(variables are depen...\n",
      "20  5.3 consumer preference  Reject the null hypothesis(variables are depen...\n",
      "21  5.4 consumer preference  Reject the null hypothesis(variables are depen...\n",
      "22  5.5 consumer preference  Accept the null hypothesis(variables are indep...\n",
      "23    6.1 evm consideration  Accept the null hypothesis(variables are indep...\n",
      "24    6.2 evm consideration  Reject the null hypothesis(variables are depen...\n",
      "25    6.3 evm consideration  Accept the null hypothesis(variables are indep...\n",
      "26    6.4 evm consideration  Accept the null hypothesis(variables are indep...\n"
     ]
    }
   ],
   "source": [
    "EV_result_chi = pd.DataFrame(data=[cat_col, chi_result6]).T\n",
    "EV_result_chi.columns = ['cat_features', 'Hypothesis']\n",
    "print(EV_result_chi)\n"
   ]
  },
  {
   "cell_type": "code",
   "execution_count": 142,
   "metadata": {},
   "outputs": [
    {
     "data": {
      "text/plain": [
       "Hypothesis\n",
       "Reject the null hypothesis(variables are dependent)      19\n",
       "Accept the null hypothesis(variables are independent)     8\n",
       "Name: count, dtype: int64"
      ]
     },
     "execution_count": 142,
     "metadata": {},
     "output_type": "execute_result"
    }
   ],
   "source": [
    "EV_result_chi['Hypothesis'].value_counts()"
   ]
  },
  {
   "cell_type": "code",
   "execution_count": 143,
   "metadata": {},
   "outputs": [
    {
     "data": {
      "text/plain": [
       "count                                                    27\n",
       "unique                                                    2\n",
       "top       Reject the null hypothesis(variables are depen...\n",
       "freq                                                     19\n",
       "Name: Hypothesis, dtype: object"
      ]
     },
     "execution_count": 143,
     "metadata": {},
     "output_type": "execute_result"
    }
   ],
   "source": [
    "EV_result_chi['Hypothesis'].describe()"
   ]
  },
  {
   "cell_type": "markdown",
   "metadata": {},
   "source": [
    "After analysing the results we reject the null hypothesis.\n",
    "\n",
    "* There is an association between EV buyers and Non-buyers and Ratings."
   ]
  },
  {
   "cell_type": "code",
   "execution_count": 105,
   "metadata": {},
   "outputs": [],
   "source": [
    "#cross_tab = pd.crosstab(\n",
    " #   index=[data['Gender']],   # Row categories\n",
    "  #  columns=[data['1.1 current awareness']]\n",
    "#)\n",
    "#cross_tab"
   ]
  },
  {
   "cell_type": "code",
   "execution_count": 106,
   "metadata": {},
   "outputs": [],
   "source": [
    "#import pandas as pd\n",
    "#from scipy.stats import chi2_contingency\n",
    "\n",
    "# Create a contingency table\n",
    "#data = {'Category_A': [50, 30, 20],\n",
    " #       'Category_B': [30, 50, 20]}\n",
    "\n",
    "#df = pd.DataFrame(data, index=['Group 1', 'Group 2', 'Group 3'])\n",
    "\n",
    "# Perform Chi-Square Test of Independence\n",
    "#chi2_stat, p_val, dof, expected = chi2_contingency(dt)\n",
    "\n",
    "# Print the results\n",
    "#print(\"Chi-Square Statistic:\", chi2_stat)\n",
    "#print(\"Degrees of Freedom:\", dof)\n",
    "#print(\"P-Value:\", p_val)\n",
    "#print(\"Expected Frequencies:\\n\", expected)\n",
    "\n",
    "# Interpreting the result\n",
    "#alpha = 0.05\n",
    "#if p_val < alpha:\n",
    "#    print(\"Reject the null hypothesis (variables are dependent)\")\n",
    "#else:\n",
    " #   print(\"Fail to reject the null hypothesis (variables are independent)\")\n"
   ]
  }
 ],
 "metadata": {
  "kernelspec": {
   "display_name": "Python 3",
   "language": "python",
   "name": "python3"
  },
  "language_info": {
   "codemirror_mode": {
    "name": "ipython",
    "version": 3
   },
   "file_extension": ".py",
   "mimetype": "text/x-python",
   "name": "python",
   "nbconvert_exporter": "python",
   "pygments_lexer": "ipython3",
   "version": "3.12.4"
  }
 },
 "nbformat": 4,
 "nbformat_minor": 2
}
